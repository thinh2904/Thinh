{
  "nbformat": 4,
  "nbformat_minor": 0,
  "metadata": {
    "colab": {
      "name": "link.ipynb",
      "provenance": []
    },
    "kernelspec": {
      "name": "python3",
      "display_name": "Python 3"
    }
  },
  "cells": [
    {
      "cell_type": "code",
      "metadata": {
        "id": "MdguMLDhcj30"
      },
      "source": [
        "import requests\r\n",
        "from bs4 import BeautifulSoup\r\n",
        "import re"
      ],
      "execution_count": 21,
      "outputs": []
    },
    {
      "cell_type": "code",
      "metadata": {
        "id": "oNnvdT5Sc3KF"
      },
      "source": [
        "link = requests.get('https://vietnamnet.vn/')"
      ],
      "execution_count": null,
      "outputs": []
    },
    {
      "cell_type": "code",
      "metadata": {
        "id": "Avgy2UB6d1rN"
      },
      "source": [
        "link_soup = BeautifulSoup(link.text,'html.parser')"
      ],
      "execution_count": null,
      "outputs": []
    },
    {
      "cell_type": "code",
      "metadata": {
        "id": "6JitdKiLewNz"
      },
      "source": [
        "url = link_soup('a', attrs={'href':True})"
      ],
      "execution_count": 11,
      "outputs": []
    },
    {
      "cell_type": "code",
      "metadata": {
        "colab": {
          "base_uri": "https://localhost:8080/"
        },
        "id": "E9IiB_mie0ti",
        "outputId": "be827a6a-ec7a-4dea-8674-100cdab3f433"
      },
      "source": [
        "url[0:10]"
      ],
      "execution_count": 14,
      "outputs": [
        {
          "output_type": "execute_result",
          "data": {
            "text/plain": [
              "[<a href=\"/\"><img alt=\"Báo VietNamNet - Đọc báo Online, Tin nhanh trong ngày\" src=\"https://vnn-res.vgcloud.vn/ResV9/event/tet-2020-logo.svg\"/></a>,\n",
              " <a class=\"pos-rel hottag tag2 m-r-10\" href=\"  https://vietnamnet.vn/vn/tet-nguyen-dan/\">#TếtNguyênĐán</a>,\n",
              " <a class=\"pos-rel hottag \" href=\"https://vietnamnet.vn/vn/dai-hoi-dang-lan-thu-xiii/\" target=\"_blank\">#Đại Hội Đảng XIII</a>,\n",
              " <a class=\"button-image d-ib search-button\" href=\"#\" title=\"Tìm kiếm\"><span>Go</span></a>,\n",
              " <a class=\"button-hot bg-red t-c t-u d-b c-fff opa-7\" href=\"/vn/tin-moi-nong/\" title=\"Tin nóng\">Tin nóng</a>,\n",
              " <a class=\"button-hot btn-blue bg-blu t-c t-u d-b c-fff opa-7\" href=\"/vn/tin-tuc-24h/\" title=\"Tin tức 24h\">Tin tức 24h</a>,\n",
              " <a class=\"button-image bt-fb bt-list opa-7\" href=\"https://www.facebook.com/vietnamnet.vn\" target=\"_blank\">Facebook</a>,\n",
              " <a class=\"button-image bt-youtb bt-list opa-7\" href=\"https://www.youtube.com/vietnamnetofficial\" target=\"_blank\">Youtube</a>,\n",
              " <a class=\"login-vnnid\" href=\"javascript:void(0)\"> </a>,\n",
              " <a class=\"btn-vnnid-red\" href=\"javascript:void(0)\"> </a>]"
            ]
          },
          "metadata": {
            "tags": []
          },
          "execution_count": 14
        }
      ]
    },
    {
      "cell_type": "code",
      "metadata": {
        "id": "kHrd7enGfGNP"
      },
      "source": [
        "a =set()\r\n",
        "for i in url:\r\n",
        "  a.add(i['href'])"
      ],
      "execution_count": 17,
      "outputs": []
    },
    {
      "cell_type": "code",
      "metadata": {
        "colab": {
          "base_uri": "https://localhost:8080/"
        },
        "id": "s0QN1fCOfYVM",
        "outputId": "a16bd15b-cb54-47a5-c116-50f82ebf2f9f"
      },
      "source": [
        "list(a)[0:10]"
      ],
      "execution_count": 20,
      "outputs": [
        {
          "output_type": "execute_result",
          "data": {
            "text/plain": [
              "['/vn/bat-dong-san/noi-that/',\n",
              " '/vn/talkshow/',\n",
              " '/vn/bao-ve-nguoi-tieu-dung/hang-that-hang-gia/triet-pha-them-co-so-thuoc-chuoi-ae-shop-viet-nam-ban-hang-gia-nhan-hieu-thoi-trang-noi-tieng-707177.html?vnn_source=trangchu&vnn_medium=box-bao-ve-nguoi-tieu-dung4',\n",
              " '/vn/the-gioi-anh/',\n",
              " '/vn/the-gioi/ong-biden-dat-duoc-nhieu-dong-thuan-voi-cac-nuoc-dong-minh-707863.html?vnn_source=trangchu&vnn_medium=moinong5',\n",
              " '/vn/kinh-doanh/thi-truong/kho-15-tieng-nieu-ca-4-trong-1-dac-biet-lang-vu-dai-707411.html?vnn_source=trangchu&vnn_medium=moinong6',\n",
              " '/vn/tuanvietnam/tieudiem/la-chan-thep-canh-ve-san-sang-cho-dai-hoi-dang-13-704395.html',\n",
              " '/vn/tin-tuc-24h/',\n",
              " '/vn/suc-khoe/suc-khoe-24h/',\n",
              " '/vn/oto-xe-may/tu-van/']"
            ]
          },
          "metadata": {
            "tags": []
          },
          "execution_count": 20
        }
      ]
    },
    {
      "cell_type": "code",
      "metadata": {
        "id": "sDx_uIdXfesD"
      },
      "source": [
        "history = set()\r\n",
        "for i in url:\r\n",
        "    a = i['href']\r\n",
        "    mau = '^(https://vietnamnet.vn).*(html|epi)$'\r\n",
        "    mau2 = '^/.*(html|epi)$'\r\n",
        "    if re.match(mau, a):\r\n",
        "        history.add(a)\r\n",
        "    else:\r\n",
        "        if re.match(mau2, a):\r\n",
        "            b = 'https://vietnamnet.vn' + a\r\n",
        "            history.add(b)"
      ],
      "execution_count": 25,
      "outputs": []
    },
    {
      "cell_type": "code",
      "metadata": {
        "colab": {
          "base_uri": "https://localhost:8080/"
        },
        "id": "4-nWSYfZk0XG",
        "outputId": "a0588ce4-99aa-4cef-da18-089a301aa710"
      },
      "source": [
        "list(history)[0:10]"
      ],
      "execution_count": 26,
      "outputs": [
        {
          "output_type": "execute_result",
          "data": {
            "text/plain": [
              "['https://vietnamnet.vn/vn/kinh-doanh/thi-truong/thi-truong-xe-may-tut-doc-khong-phanh-thay-doi-hay-la-chet-706790.html',\n",
              " 'https://vietnamnet.vn/vn/giao-duc/guong-mat-tre/ky-su-viet-tai-my-nghien-cuu-mieng-dan-dua-vac-xin-covid-19-vao-co-the-706699.html',\n",
              " 'https://vietnamnet.vn/vn/thoi-su/media/ong-nguyen-thien-nhan-thu-duc-thanh-pho-cua-tri-tue-nhan-tao-dang-song-nhat-viet-nam-706311.html',\n",
              " 'https://vietnamnet.vn/vn/su-kien/dich-covid-19-tai-viet-nam-695488.html',\n",
              " 'https://vietnamnet.vn/vn/thong-tin-truyen-thong/ben-tre-phe-duyet-kien-truc-chinh-quyen-dien-tu-phien-ban-2-0-706844.html',\n",
              " 'https://vietnamnet.vn/vn/cong-nghe/ung-dung/trien-khai-ban-do-chung-song-an-toan-voi-covid-cho-cac-phuong-tien-van-tai-hanh-khach-707115.html',\n",
              " 'https://vietnamnet.vn/vn/thi-truong-tieu-dung/5-mau-ao-khoac-trendy-cho-cac-chang-trai-dip-tet-nguyen-dan-706756.html',\n",
              " 'https://vietnamnet.vn/vn/kinh-doanh/thi-truong/dai-ly-khong-dam-tru-bia-tet-707881.html',\n",
              " 'https://vietnamnet.vn/vn/kinh-doanh/dau-tu/nam-nam-bien-dong-va-cu-sat-hach-2020-nhung-chi-so-ban-linh-viet-nam-707683.html',\n",
              " 'https://vietnamnet.vn/vn/su-kien/diego-maradona-qua-doi-692831.html']"
            ]
          },
          "metadata": {
            "tags": []
          },
          "execution_count": 26
        }
      ]
    }
  ]
}